{
 "cells": [
  {
   "cell_type": "code",
   "execution_count": 1,
   "metadata": {},
   "outputs": [],
   "source": [
    "from neo4j import GraphDatabase \n",
    "import pandas as pd\n",
    "import os\n",
    "from pathlib import Path\n",
    "\n",
    "from tqdm import tqdm\n",
    "import seaborn as sns\n",
    "import matplotlib.pyplot as plt\n",
    "import networkx as nx"
   ]
  },
  {
   "cell_type": "code",
   "execution_count": 2,
   "metadata": {},
   "outputs": [],
   "source": [
    "class driver():\n",
    "    \"\"\"Class to run LinkPred\"\"\"\n",
    "    def __init__(self) -> None:\n",
    "        self.driver = GraphDatabase.driver(\"neo4j://localhost:7687\", auth=(\"neo4j\", \"bishop-detect-tahiti-distant-pixel-3737\"))\n",
    "\n",
    "    def close(self) -> None:\n",
    "        self.driver.close()\n",
    "\n",
    "    @classmethod\n",
    "    def louvain(cls,tx) -> any:\n",
    "        query = (\"\"\"\n",
    "        CALL gds.louvain.stream(\"KG\")\n",
    "        YIELD nodeId, communityId\n",
    "        RETURN LABELS(gds.util.asNode(nodeId)) AS Type, nodeId as ID, gds.util.asNode(nodeId).name AS Name, communityId as Community\n",
    "        \"\"\")\n",
    "        result = tx.run(query)\n",
    "        return result.data()\n",
    "\n",
    "    def run_louvain(self) -> any:\n",
    "        result = self.driver.session().write_transaction(self.louvain)\n",
    "        result = pd.DataFrame(result)\n",
    "        return result"
   ]
  },
  {
   "cell_type": "code",
   "execution_count": 3,
   "metadata": {},
   "outputs": [],
   "source": [
    "KG = driver()"
   ]
  },
  {
   "cell_type": "code",
   "execution_count": 4,
   "metadata": {},
   "outputs": [
    {
     "data": {
      "text/html": [
       "<div>\n",
       "<style scoped>\n",
       "    .dataframe tbody tr th:only-of-type {\n",
       "        vertical-align: middle;\n",
       "    }\n",
       "\n",
       "    .dataframe tbody tr th {\n",
       "        vertical-align: top;\n",
       "    }\n",
       "\n",
       "    .dataframe thead th {\n",
       "        text-align: right;\n",
       "    }\n",
       "</style>\n",
       "<table border=\"1\" class=\"dataframe\">\n",
       "  <thead>\n",
       "    <tr style=\"text-align: right;\">\n",
       "      <th></th>\n",
       "      <th>Type</th>\n",
       "      <th>ID</th>\n",
       "      <th>Name</th>\n",
       "      <th>Community</th>\n",
       "      <th>Frequency</th>\n",
       "    </tr>\n",
       "  </thead>\n",
       "  <tbody>\n",
       "    <tr>\n",
       "      <th>0</th>\n",
       "      <td>Protein</td>\n",
       "      <td>0</td>\n",
       "      <td>Amyloid beta A4 protein</td>\n",
       "      <td>13645</td>\n",
       "      <td>695</td>\n",
       "    </tr>\n",
       "    <tr>\n",
       "      <th>1</th>\n",
       "      <td>Protein</td>\n",
       "      <td>1</td>\n",
       "      <td>Matrix metalloproteinase-9</td>\n",
       "      <td>13764</td>\n",
       "      <td>1604</td>\n",
       "    </tr>\n",
       "    <tr>\n",
       "      <th>2</th>\n",
       "      <td>Protein</td>\n",
       "      <td>2</td>\n",
       "      <td>Voltage-dependent P/Q-type calcium channel sub...</td>\n",
       "      <td>13735</td>\n",
       "      <td>1778</td>\n",
       "    </tr>\n",
       "    <tr>\n",
       "      <th>3</th>\n",
       "      <td>Protein</td>\n",
       "      <td>3</td>\n",
       "      <td>Extracellular calcium-sensing receptor</td>\n",
       "      <td>13643</td>\n",
       "      <td>833</td>\n",
       "    </tr>\n",
       "    <tr>\n",
       "      <th>4</th>\n",
       "      <td>Protein</td>\n",
       "      <td>4</td>\n",
       "      <td>Nitric oxide synthase, brain</td>\n",
       "      <td>13642</td>\n",
       "      <td>1152</td>\n",
       "    </tr>\n",
       "  </tbody>\n",
       "</table>\n",
       "</div>"
      ],
      "text/plain": [
       "      Type  ID                                               Name  Community  \\\n",
       "0  Protein   0                            Amyloid beta A4 protein      13645   \n",
       "1  Protein   1                         Matrix metalloproteinase-9      13764   \n",
       "2  Protein   2  Voltage-dependent P/Q-type calcium channel sub...      13735   \n",
       "3  Protein   3             Extracellular calcium-sensing receptor      13643   \n",
       "4  Protein   4                       Nitric oxide synthase, brain      13642   \n",
       "\n",
       "   Frequency  \n",
       "0        695  \n",
       "1       1604  \n",
       "2       1778  \n",
       "3        833  \n",
       "4       1152  "
      ]
     },
     "execution_count": 4,
     "metadata": {},
     "output_type": "execute_result"
    }
   ],
   "source": [
    "results = KG.run_louvain()\n",
    "results[\"Type\"] = results[\"Type\"].str[0]\n",
    "results[\"Frequency\"] = results[\"Community\"].map(results[\"Community\"].value_counts())\n",
    "results.head()"
   ]
  },
  {
   "cell_type": "code",
   "execution_count": 5,
   "metadata": {},
   "outputs": [],
   "source": [
    "# get proteins and MeSH terms that are in a community of size >= 10\n",
    "proteins_and_mesh = results.loc[((results['Type'] == \"Protein\") | (results['Type'] == 'MeSH')) & (results['Frequency'] >= 10)]\n",
    "\n",
    "# https://moonbooks.org/Articles/How-to-slice-split-a-dataframe-by-column-value-with-pandas-in-python-/\n",
    "community_ids = proteins_and_mesh['Community'].unique()\n",
    "df_sliced_dict = {}\n",
    "for community in community_ids:\n",
    "    df_sliced_dict[community] = proteins_and_mesh[ proteins_and_mesh['Community'] == community]"
   ]
  },
  {
   "cell_type": "code",
   "execution_count": 6,
   "metadata": {},
   "outputs": [],
   "source": [
    "# makes subdirectory /CSVs and cleans out old files\n",
    "path = str(Path().absolute()) + '/CSVs'\n",
    "os.makedirs(path, exist_ok=True)\n",
    "for f in os.listdir(path):\n",
    "    os.remove(os.path.join(path, f))  \n",
    "\n",
    "# output data into CSVs named [communityId].csv into CSVs/\n",
    "for community in community_ids:\n",
    "    df_sliced_dict[community][['Type','Name']].to_csv(path + '/' + str(community) + '.csv') "
   ]
  },
  {
   "cell_type": "code",
   "execution_count": null,
   "metadata": {},
   "outputs": [],
   "source": []
  }
 ],
 "metadata": {
  "interpreter": {
   "hash": "77fb44b17f5ce9ca70a05dbc2721596305ab06cf3c2372d11b64f002ad7fab49"
  },
  "kernelspec": {
   "display_name": "Python 3.9.2 ('cs148')",
   "language": "python",
   "name": "python3"
  },
  "language_info": {
   "codemirror_mode": {
    "name": "ipython",
    "version": 3
   },
   "file_extension": ".py",
   "mimetype": "text/x-python",
   "name": "python",
   "nbconvert_exporter": "python",
   "pygments_lexer": "ipython3",
   "version": "3.9.2"
  },
  "orig_nbformat": 4
 },
 "nbformat": 4,
 "nbformat_minor": 2
}
